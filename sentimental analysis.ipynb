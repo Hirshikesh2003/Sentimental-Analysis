{
 "cells": [
  {
   "cell_type": "code",
   "execution_count": 89,
   "id": "3a5716ed",
   "metadata": {},
   "outputs": [],
   "source": [
    "import pandas as pd\n",
    "import numpy as np\n",
    "import matplotlib.pyplot as plt\n",
    "import seaborn as sns\n",
    "from wordcloud import WordCloud, STOPWORDS\n",
    "plt.style.use(\"ggplot\")\n",
    "\n",
    "import nltk"
   ]
  },
  {
   "cell_type": "code",
   "execution_count": 29,
   "id": "a0187981",
   "metadata": {},
   "outputs": [],
   "source": [
    "df = pd.read_csv(r\"C:\\Users\\GAMES\\Downloads\\HIRSHI\\sentimental analysis\\Reviews.csv\")"
   ]
  },
  {
   "cell_type": "code",
   "execution_count": 30,
   "id": "1e068af7",
   "metadata": {},
   "outputs": [],
   "source": [
    "df = df.dropna()"
   ]
  },
  {
   "cell_type": "code",
   "execution_count": 31,
   "id": "933e02b3",
   "metadata": {
    "scrolled": true
   },
   "outputs": [
    {
     "data": {
      "text/html": [
       "<div>\n",
       "<style scoped>\n",
       "    .dataframe tbody tr th:only-of-type {\n",
       "        vertical-align: middle;\n",
       "    }\n",
       "\n",
       "    .dataframe tbody tr th {\n",
       "        vertical-align: top;\n",
       "    }\n",
       "\n",
       "    .dataframe thead th {\n",
       "        text-align: right;\n",
       "    }\n",
       "</style>\n",
       "<table border=\"1\" class=\"dataframe\">\n",
       "  <thead>\n",
       "    <tr style=\"text-align: right;\">\n",
       "      <th></th>\n",
       "      <th>Id</th>\n",
       "      <th>ProductId</th>\n",
       "      <th>UserId</th>\n",
       "      <th>ProfileName</th>\n",
       "      <th>HelpfulnessNumerator</th>\n",
       "      <th>HelpfulnessDenominator</th>\n",
       "      <th>Score</th>\n",
       "      <th>Time</th>\n",
       "      <th>Summary</th>\n",
       "      <th>Text</th>\n",
       "    </tr>\n",
       "  </thead>\n",
       "  <tbody>\n",
       "    <tr>\n",
       "      <th>0</th>\n",
       "      <td>1</td>\n",
       "      <td>B001E4KFG0</td>\n",
       "      <td>A3SGXH7AUHU8GW</td>\n",
       "      <td>delmartian</td>\n",
       "      <td>1</td>\n",
       "      <td>1</td>\n",
       "      <td>5</td>\n",
       "      <td>1303862400</td>\n",
       "      <td>Good Quality Dog Food</td>\n",
       "      <td>I have bought several of the Vitality canned d...</td>\n",
       "    </tr>\n",
       "    <tr>\n",
       "      <th>1</th>\n",
       "      <td>2</td>\n",
       "      <td>B00813GRG4</td>\n",
       "      <td>A1D87F6ZCVE5NK</td>\n",
       "      <td>dll pa</td>\n",
       "      <td>0</td>\n",
       "      <td>0</td>\n",
       "      <td>1</td>\n",
       "      <td>1346976000</td>\n",
       "      <td>Not as Advertised</td>\n",
       "      <td>Product arrived labeled as Jumbo Salted Peanut...</td>\n",
       "    </tr>\n",
       "    <tr>\n",
       "      <th>2</th>\n",
       "      <td>3</td>\n",
       "      <td>B000LQOCH0</td>\n",
       "      <td>ABXLMWJIXXAIN</td>\n",
       "      <td>Natalia Corres \"Natalia Corres\"</td>\n",
       "      <td>1</td>\n",
       "      <td>1</td>\n",
       "      <td>4</td>\n",
       "      <td>1219017600</td>\n",
       "      <td>\"Delight\" says it all</td>\n",
       "      <td>This is a confection that has been around a fe...</td>\n",
       "    </tr>\n",
       "    <tr>\n",
       "      <th>3</th>\n",
       "      <td>4</td>\n",
       "      <td>B000UA0QIQ</td>\n",
       "      <td>A395BORC6FGVXV</td>\n",
       "      <td>Karl</td>\n",
       "      <td>3</td>\n",
       "      <td>3</td>\n",
       "      <td>2</td>\n",
       "      <td>1307923200</td>\n",
       "      <td>Cough Medicine</td>\n",
       "      <td>If you are looking for the secret ingredient i...</td>\n",
       "    </tr>\n",
       "    <tr>\n",
       "      <th>4</th>\n",
       "      <td>5</td>\n",
       "      <td>B006K2ZZ7K</td>\n",
       "      <td>A1UQRSCLF8GW1T</td>\n",
       "      <td>Michael D. Bigham \"M. Wassir\"</td>\n",
       "      <td>0</td>\n",
       "      <td>0</td>\n",
       "      <td>5</td>\n",
       "      <td>1350777600</td>\n",
       "      <td>Great taffy</td>\n",
       "      <td>Great taffy at a great price.  There was a wid...</td>\n",
       "    </tr>\n",
       "    <tr>\n",
       "      <th>...</th>\n",
       "      <td>...</td>\n",
       "      <td>...</td>\n",
       "      <td>...</td>\n",
       "      <td>...</td>\n",
       "      <td>...</td>\n",
       "      <td>...</td>\n",
       "      <td>...</td>\n",
       "      <td>...</td>\n",
       "      <td>...</td>\n",
       "      <td>...</td>\n",
       "    </tr>\n",
       "    <tr>\n",
       "      <th>568449</th>\n",
       "      <td>568450</td>\n",
       "      <td>B001EO7N10</td>\n",
       "      <td>A28KG5XORO54AY</td>\n",
       "      <td>Lettie D. Carter</td>\n",
       "      <td>0</td>\n",
       "      <td>0</td>\n",
       "      <td>5</td>\n",
       "      <td>1299628800</td>\n",
       "      <td>Will not do without</td>\n",
       "      <td>Great for sesame chicken..this is a good if no...</td>\n",
       "    </tr>\n",
       "    <tr>\n",
       "      <th>568450</th>\n",
       "      <td>568451</td>\n",
       "      <td>B003S1WTCU</td>\n",
       "      <td>A3I8AFVPEE8KI5</td>\n",
       "      <td>R. Sawyer</td>\n",
       "      <td>0</td>\n",
       "      <td>0</td>\n",
       "      <td>2</td>\n",
       "      <td>1331251200</td>\n",
       "      <td>disappointed</td>\n",
       "      <td>I'm disappointed with the flavor. The chocolat...</td>\n",
       "    </tr>\n",
       "    <tr>\n",
       "      <th>568451</th>\n",
       "      <td>568452</td>\n",
       "      <td>B004I613EE</td>\n",
       "      <td>A121AA1GQV751Z</td>\n",
       "      <td>pksd \"pk_007\"</td>\n",
       "      <td>2</td>\n",
       "      <td>2</td>\n",
       "      <td>5</td>\n",
       "      <td>1329782400</td>\n",
       "      <td>Perfect for our maltipoo</td>\n",
       "      <td>These stars are small, so you can give 10-15 o...</td>\n",
       "    </tr>\n",
       "    <tr>\n",
       "      <th>568452</th>\n",
       "      <td>568453</td>\n",
       "      <td>B004I613EE</td>\n",
       "      <td>A3IBEVCTXKNOH</td>\n",
       "      <td>Kathy A. Welch \"katwel\"</td>\n",
       "      <td>1</td>\n",
       "      <td>1</td>\n",
       "      <td>5</td>\n",
       "      <td>1331596800</td>\n",
       "      <td>Favorite Training and reward treat</td>\n",
       "      <td>These are the BEST treats for training and rew...</td>\n",
       "    </tr>\n",
       "    <tr>\n",
       "      <th>568453</th>\n",
       "      <td>568454</td>\n",
       "      <td>B001LR2CU2</td>\n",
       "      <td>A3LGQPJCZVL9UC</td>\n",
       "      <td>srfell17</td>\n",
       "      <td>0</td>\n",
       "      <td>0</td>\n",
       "      <td>5</td>\n",
       "      <td>1338422400</td>\n",
       "      <td>Great Honey</td>\n",
       "      <td>I am very satisfied ,product is as advertised,...</td>\n",
       "    </tr>\n",
       "  </tbody>\n",
       "</table>\n",
       "<p>568401 rows × 10 columns</p>\n",
       "</div>"
      ],
      "text/plain": [
       "            Id   ProductId          UserId                      ProfileName  \\\n",
       "0            1  B001E4KFG0  A3SGXH7AUHU8GW                       delmartian   \n",
       "1            2  B00813GRG4  A1D87F6ZCVE5NK                           dll pa   \n",
       "2            3  B000LQOCH0   ABXLMWJIXXAIN  Natalia Corres \"Natalia Corres\"   \n",
       "3            4  B000UA0QIQ  A395BORC6FGVXV                             Karl   \n",
       "4            5  B006K2ZZ7K  A1UQRSCLF8GW1T    Michael D. Bigham \"M. Wassir\"   \n",
       "...        ...         ...             ...                              ...   \n",
       "568449  568450  B001EO7N10  A28KG5XORO54AY                 Lettie D. Carter   \n",
       "568450  568451  B003S1WTCU  A3I8AFVPEE8KI5                        R. Sawyer   \n",
       "568451  568452  B004I613EE  A121AA1GQV751Z                    pksd \"pk_007\"   \n",
       "568452  568453  B004I613EE   A3IBEVCTXKNOH          Kathy A. Welch \"katwel\"   \n",
       "568453  568454  B001LR2CU2  A3LGQPJCZVL9UC                         srfell17   \n",
       "\n",
       "        HelpfulnessNumerator  HelpfulnessDenominator  Score        Time  \\\n",
       "0                          1                       1      5  1303862400   \n",
       "1                          0                       0      1  1346976000   \n",
       "2                          1                       1      4  1219017600   \n",
       "3                          3                       3      2  1307923200   \n",
       "4                          0                       0      5  1350777600   \n",
       "...                      ...                     ...    ...         ...   \n",
       "568449                     0                       0      5  1299628800   \n",
       "568450                     0                       0      2  1331251200   \n",
       "568451                     2                       2      5  1329782400   \n",
       "568452                     1                       1      5  1331596800   \n",
       "568453                     0                       0      5  1338422400   \n",
       "\n",
       "                                   Summary  \\\n",
       "0                    Good Quality Dog Food   \n",
       "1                        Not as Advertised   \n",
       "2                    \"Delight\" says it all   \n",
       "3                           Cough Medicine   \n",
       "4                              Great taffy   \n",
       "...                                    ...   \n",
       "568449                 Will not do without   \n",
       "568450                        disappointed   \n",
       "568451            Perfect for our maltipoo   \n",
       "568452  Favorite Training and reward treat   \n",
       "568453                         Great Honey   \n",
       "\n",
       "                                                     Text  \n",
       "0       I have bought several of the Vitality canned d...  \n",
       "1       Product arrived labeled as Jumbo Salted Peanut...  \n",
       "2       This is a confection that has been around a fe...  \n",
       "3       If you are looking for the secret ingredient i...  \n",
       "4       Great taffy at a great price.  There was a wid...  \n",
       "...                                                   ...  \n",
       "568449  Great for sesame chicken..this is a good if no...  \n",
       "568450  I'm disappointed with the flavor. The chocolat...  \n",
       "568451  These stars are small, so you can give 10-15 o...  \n",
       "568452  These are the BEST treats for training and rew...  \n",
       "568453  I am very satisfied ,product is as advertised,...  \n",
       "\n",
       "[568401 rows x 10 columns]"
      ]
     },
     "execution_count": 31,
     "metadata": {},
     "output_type": "execute_result"
    }
   ],
   "source": [
    "df"
   ]
  },
  {
   "cell_type": "code",
   "execution_count": 32,
   "id": "5f773b7b",
   "metadata": {},
   "outputs": [],
   "source": [
    "np.random.seed(34)\n",
    "df1 = df.sample(frac = 0.1)"
   ]
  },
  {
   "cell_type": "code",
   "execution_count": 33,
   "id": "cc5bbd9c",
   "metadata": {},
   "outputs": [
    {
     "data": {
      "text/html": [
       "<div>\n",
       "<style scoped>\n",
       "    .dataframe tbody tr th:only-of-type {\n",
       "        vertical-align: middle;\n",
       "    }\n",
       "\n",
       "    .dataframe tbody tr th {\n",
       "        vertical-align: top;\n",
       "    }\n",
       "\n",
       "    .dataframe thead th {\n",
       "        text-align: right;\n",
       "    }\n",
       "</style>\n",
       "<table border=\"1\" class=\"dataframe\">\n",
       "  <thead>\n",
       "    <tr style=\"text-align: right;\">\n",
       "      <th></th>\n",
       "      <th>Id</th>\n",
       "      <th>ProductId</th>\n",
       "      <th>UserId</th>\n",
       "      <th>ProfileName</th>\n",
       "      <th>HelpfulnessNumerator</th>\n",
       "      <th>HelpfulnessDenominator</th>\n",
       "      <th>Score</th>\n",
       "      <th>Time</th>\n",
       "      <th>Summary</th>\n",
       "      <th>Text</th>\n",
       "    </tr>\n",
       "  </thead>\n",
       "  <tbody>\n",
       "    <tr>\n",
       "      <th>302888</th>\n",
       "      <td>302889</td>\n",
       "      <td>B004BY7HKC</td>\n",
       "      <td>A2CQIWHK4CKTGZ</td>\n",
       "      <td>C. Stowe</td>\n",
       "      <td>0</td>\n",
       "      <td>0</td>\n",
       "      <td>5</td>\n",
       "      <td>1328400000</td>\n",
       "      <td>Great gluten free snack</td>\n",
       "      <td>Out of all of the gluten free snacks I have tr...</td>\n",
       "    </tr>\n",
       "    <tr>\n",
       "      <th>38510</th>\n",
       "      <td>38511</td>\n",
       "      <td>B000H26J7E</td>\n",
       "      <td>A36WA7L88C2NW1</td>\n",
       "      <td>Candace Drimmer \"a.k.a. Candi Boggs\"</td>\n",
       "      <td>2</td>\n",
       "      <td>6</td>\n",
       "      <td>5</td>\n",
       "      <td>1297728000</td>\n",
       "      <td>Affordable, delightful and good value for the ...</td>\n",
       "      <td>As a chocolate lover--who use to make pilgrima...</td>\n",
       "    </tr>\n",
       "    <tr>\n",
       "      <th>29130</th>\n",
       "      <td>29131</td>\n",
       "      <td>B000FFVYFA</td>\n",
       "      <td>A2G6O9IQ6Y64AD</td>\n",
       "      <td>Just me</td>\n",
       "      <td>5</td>\n",
       "      <td>5</td>\n",
       "      <td>5</td>\n",
       "      <td>1236902400</td>\n",
       "      <td>Small slice of heaven</td>\n",
       "      <td>Wow.&lt;br /&gt;For those on a gluten &amp; dairy-free d...</td>\n",
       "    </tr>\n",
       "    <tr>\n",
       "      <th>110703</th>\n",
       "      <td>110704</td>\n",
       "      <td>B00438XVGU</td>\n",
       "      <td>A10FHIE6EYFOUG</td>\n",
       "      <td>J. C. Hirsch \"nerd pie\"</td>\n",
       "      <td>4</td>\n",
       "      <td>5</td>\n",
       "      <td>3</td>\n",
       "      <td>1309824000</td>\n",
       "      <td>Expiration dates - sometimes chewing gum stick...</td>\n",
       "      <td>I have some experience with expired Via coffee...</td>\n",
       "    </tr>\n",
       "    <tr>\n",
       "      <th>64330</th>\n",
       "      <td>64331</td>\n",
       "      <td>B001EO5YAC</td>\n",
       "      <td>A19JPROF2J4PA4</td>\n",
       "      <td>Acheron's Flow</td>\n",
       "      <td>0</td>\n",
       "      <td>0</td>\n",
       "      <td>5</td>\n",
       "      <td>1265500800</td>\n",
       "      <td>My favorite online coffee</td>\n",
       "      <td>Very nice roast. An aroma to die for. This is ...</td>\n",
       "    </tr>\n",
       "    <tr>\n",
       "      <th>...</th>\n",
       "      <td>...</td>\n",
       "      <td>...</td>\n",
       "      <td>...</td>\n",
       "      <td>...</td>\n",
       "      <td>...</td>\n",
       "      <td>...</td>\n",
       "      <td>...</td>\n",
       "      <td>...</td>\n",
       "      <td>...</td>\n",
       "      <td>...</td>\n",
       "    </tr>\n",
       "    <tr>\n",
       "      <th>22858</th>\n",
       "      <td>22859</td>\n",
       "      <td>B000RZAJL8</td>\n",
       "      <td>A202YIJBLXHWDC</td>\n",
       "      <td>Craig S</td>\n",
       "      <td>0</td>\n",
       "      <td>0</td>\n",
       "      <td>1</td>\n",
       "      <td>1338422400</td>\n",
       "      <td>Old</td>\n",
       "      <td>Delivery was on time but when I opened the pro...</td>\n",
       "    </tr>\n",
       "    <tr>\n",
       "      <th>125239</th>\n",
       "      <td>125240</td>\n",
       "      <td>B00092LSWS</td>\n",
       "      <td>A1EABBQ0FG1APR</td>\n",
       "      <td>Elizabeth Twiddy</td>\n",
       "      <td>1</td>\n",
       "      <td>1</td>\n",
       "      <td>5</td>\n",
       "      <td>1199664000</td>\n",
       "      <td>sugar cubes -- great sugar + value</td>\n",
       "      <td>great product.  high quality and lower price t...</td>\n",
       "    </tr>\n",
       "    <tr>\n",
       "      <th>363907</th>\n",
       "      <td>363908</td>\n",
       "      <td>B002CY7TJW</td>\n",
       "      <td>A2158Y2U61AU9G</td>\n",
       "      <td>Lillian37</td>\n",
       "      <td>5</td>\n",
       "      <td>9</td>\n",
       "      <td>2</td>\n",
       "      <td>1297728000</td>\n",
       "      <td>Weak Vanilla Flavor</td>\n",
       "      <td>After researching brands of vanilla bean paste...</td>\n",
       "    </tr>\n",
       "    <tr>\n",
       "      <th>303801</th>\n",
       "      <td>303802</td>\n",
       "      <td>B000EUIZBM</td>\n",
       "      <td>A16KTJ4425JFAR</td>\n",
       "      <td>saucy nomad \"literary minx\"</td>\n",
       "      <td>0</td>\n",
       "      <td>0</td>\n",
       "      <td>5</td>\n",
       "      <td>1298246400</td>\n",
       "      <td>Love it!</td>\n",
       "      <td>This is my second time purchasing the 120 bags...</td>\n",
       "    </tr>\n",
       "    <tr>\n",
       "      <th>409458</th>\n",
       "      <td>409459</td>\n",
       "      <td>B001ELL67A</td>\n",
       "      <td>A1JEXR3E3E8T2G</td>\n",
       "      <td>Stephen R. Finney</td>\n",
       "      <td>1</td>\n",
       "      <td>1</td>\n",
       "      <td>5</td>\n",
       "      <td>1280102400</td>\n",
       "      <td>The Best Keurig K-Cup Coffee I've Found So Far</td>\n",
       "      <td>Tully's French Roast K-Cups make the best coff...</td>\n",
       "    </tr>\n",
       "  </tbody>\n",
       "</table>\n",
       "<p>56840 rows × 10 columns</p>\n",
       "</div>"
      ],
      "text/plain": [
       "            Id   ProductId          UserId  \\\n",
       "302888  302889  B004BY7HKC  A2CQIWHK4CKTGZ   \n",
       "38510    38511  B000H26J7E  A36WA7L88C2NW1   \n",
       "29130    29131  B000FFVYFA  A2G6O9IQ6Y64AD   \n",
       "110703  110704  B00438XVGU  A10FHIE6EYFOUG   \n",
       "64330    64331  B001EO5YAC  A19JPROF2J4PA4   \n",
       "...        ...         ...             ...   \n",
       "22858    22859  B000RZAJL8  A202YIJBLXHWDC   \n",
       "125239  125240  B00092LSWS  A1EABBQ0FG1APR   \n",
       "363907  363908  B002CY7TJW  A2158Y2U61AU9G   \n",
       "303801  303802  B000EUIZBM  A16KTJ4425JFAR   \n",
       "409458  409459  B001ELL67A  A1JEXR3E3E8T2G   \n",
       "\n",
       "                                 ProfileName  HelpfulnessNumerator  \\\n",
       "302888                              C. Stowe                     0   \n",
       "38510   Candace Drimmer \"a.k.a. Candi Boggs\"                     2   \n",
       "29130                                Just me                     5   \n",
       "110703               J. C. Hirsch \"nerd pie\"                     4   \n",
       "64330                         Acheron's Flow                     0   \n",
       "...                                      ...                   ...   \n",
       "22858                                Craig S                     0   \n",
       "125239                      Elizabeth Twiddy                     1   \n",
       "363907                             Lillian37                     5   \n",
       "303801           saucy nomad \"literary minx\"                     0   \n",
       "409458                     Stephen R. Finney                     1   \n",
       "\n",
       "        HelpfulnessDenominator  Score        Time  \\\n",
       "302888                       0      5  1328400000   \n",
       "38510                        6      5  1297728000   \n",
       "29130                        5      5  1236902400   \n",
       "110703                       5      3  1309824000   \n",
       "64330                        0      5  1265500800   \n",
       "...                        ...    ...         ...   \n",
       "22858                        0      1  1338422400   \n",
       "125239                       1      5  1199664000   \n",
       "363907                       9      2  1297728000   \n",
       "303801                       0      5  1298246400   \n",
       "409458                       1      5  1280102400   \n",
       "\n",
       "                                                  Summary  \\\n",
       "302888                            Great gluten free snack   \n",
       "38510   Affordable, delightful and good value for the ...   \n",
       "29130                               Small slice of heaven   \n",
       "110703  Expiration dates - sometimes chewing gum stick...   \n",
       "64330                           My favorite online coffee   \n",
       "...                                                   ...   \n",
       "22858                                                 Old   \n",
       "125239                 sugar cubes -- great sugar + value   \n",
       "363907                                Weak Vanilla Flavor   \n",
       "303801                                           Love it!   \n",
       "409458     The Best Keurig K-Cup Coffee I've Found So Far   \n",
       "\n",
       "                                                     Text  \n",
       "302888  Out of all of the gluten free snacks I have tr...  \n",
       "38510   As a chocolate lover--who use to make pilgrima...  \n",
       "29130   Wow.<br />For those on a gluten & dairy-free d...  \n",
       "110703  I have some experience with expired Via coffee...  \n",
       "64330   Very nice roast. An aroma to die for. This is ...  \n",
       "...                                                   ...  \n",
       "22858   Delivery was on time but when I opened the pro...  \n",
       "125239  great product.  high quality and lower price t...  \n",
       "363907  After researching brands of vanilla bean paste...  \n",
       "303801  This is my second time purchasing the 120 bags...  \n",
       "409458  Tully's French Roast K-Cups make the best coff...  \n",
       "\n",
       "[56840 rows x 10 columns]"
      ]
     },
     "execution_count": 33,
     "metadata": {},
     "output_type": "execute_result"
    }
   ],
   "source": [
    "df1"
   ]
  },
  {
   "cell_type": "code",
   "execution_count": 34,
   "id": "cc7cf221",
   "metadata": {},
   "outputs": [
    {
     "name": "stdout",
     "output_type": "stream",
     "text": [
      "<class 'pandas.core.frame.DataFrame'>\n",
      "Index: 56840 entries, 302888 to 409458\n",
      "Data columns (total 10 columns):\n",
      " #   Column                  Non-Null Count  Dtype \n",
      "---  ------                  --------------  ----- \n",
      " 0   Id                      56840 non-null  int64 \n",
      " 1   ProductId               56840 non-null  object\n",
      " 2   UserId                  56840 non-null  object\n",
      " 3   ProfileName             56840 non-null  object\n",
      " 4   HelpfulnessNumerator    56840 non-null  int64 \n",
      " 5   HelpfulnessDenominator  56840 non-null  int64 \n",
      " 6   Score                   56840 non-null  int64 \n",
      " 7   Time                    56840 non-null  int64 \n",
      " 8   Summary                 56840 non-null  object\n",
      " 9   Text                    56840 non-null  object\n",
      "dtypes: int64(5), object(5)\n",
      "memory usage: 4.8+ MB\n"
     ]
    }
   ],
   "source": [
    "df1.info()"
   ]
  },
  {
   "cell_type": "code",
   "execution_count": 38,
   "id": "43abb6f3",
   "metadata": {},
   "outputs": [],
   "source": [
    "df2 = df1.drop(['Id','ProductId','UserId','ProfileName','HelpfulnessNumerator','HelpfulnessDenominator','Time','Text'], axis = 1)"
   ]
  },
  {
   "cell_type": "code",
   "execution_count": 39,
   "id": "ec823607",
   "metadata": {},
   "outputs": [
    {
     "data": {
      "text/html": [
       "<div>\n",
       "<style scoped>\n",
       "    .dataframe tbody tr th:only-of-type {\n",
       "        vertical-align: middle;\n",
       "    }\n",
       "\n",
       "    .dataframe tbody tr th {\n",
       "        vertical-align: top;\n",
       "    }\n",
       "\n",
       "    .dataframe thead th {\n",
       "        text-align: right;\n",
       "    }\n",
       "</style>\n",
       "<table border=\"1\" class=\"dataframe\">\n",
       "  <thead>\n",
       "    <tr style=\"text-align: right;\">\n",
       "      <th></th>\n",
       "      <th>Score</th>\n",
       "      <th>Summary</th>\n",
       "    </tr>\n",
       "  </thead>\n",
       "  <tbody>\n",
       "    <tr>\n",
       "      <th>302888</th>\n",
       "      <td>5</td>\n",
       "      <td>Great gluten free snack</td>\n",
       "    </tr>\n",
       "    <tr>\n",
       "      <th>38510</th>\n",
       "      <td>5</td>\n",
       "      <td>Affordable, delightful and good value for the ...</td>\n",
       "    </tr>\n",
       "    <tr>\n",
       "      <th>29130</th>\n",
       "      <td>5</td>\n",
       "      <td>Small slice of heaven</td>\n",
       "    </tr>\n",
       "    <tr>\n",
       "      <th>110703</th>\n",
       "      <td>3</td>\n",
       "      <td>Expiration dates - sometimes chewing gum stick...</td>\n",
       "    </tr>\n",
       "    <tr>\n",
       "      <th>64330</th>\n",
       "      <td>5</td>\n",
       "      <td>My favorite online coffee</td>\n",
       "    </tr>\n",
       "    <tr>\n",
       "      <th>...</th>\n",
       "      <td>...</td>\n",
       "      <td>...</td>\n",
       "    </tr>\n",
       "    <tr>\n",
       "      <th>22858</th>\n",
       "      <td>1</td>\n",
       "      <td>Old</td>\n",
       "    </tr>\n",
       "    <tr>\n",
       "      <th>125239</th>\n",
       "      <td>5</td>\n",
       "      <td>sugar cubes -- great sugar + value</td>\n",
       "    </tr>\n",
       "    <tr>\n",
       "      <th>363907</th>\n",
       "      <td>2</td>\n",
       "      <td>Weak Vanilla Flavor</td>\n",
       "    </tr>\n",
       "    <tr>\n",
       "      <th>303801</th>\n",
       "      <td>5</td>\n",
       "      <td>Love it!</td>\n",
       "    </tr>\n",
       "    <tr>\n",
       "      <th>409458</th>\n",
       "      <td>5</td>\n",
       "      <td>The Best Keurig K-Cup Coffee I've Found So Far</td>\n",
       "    </tr>\n",
       "  </tbody>\n",
       "</table>\n",
       "<p>56840 rows × 2 columns</p>\n",
       "</div>"
      ],
      "text/plain": [
       "        Score                                            Summary\n",
       "302888      5                            Great gluten free snack\n",
       "38510       5  Affordable, delightful and good value for the ...\n",
       "29130       5                              Small slice of heaven\n",
       "110703      3  Expiration dates - sometimes chewing gum stick...\n",
       "64330       5                          My favorite online coffee\n",
       "...       ...                                                ...\n",
       "22858       1                                                Old\n",
       "125239      5                 sugar cubes -- great sugar + value\n",
       "363907      2                                Weak Vanilla Flavor\n",
       "303801      5                                           Love it!\n",
       "409458      5     The Best Keurig K-Cup Coffee I've Found So Far\n",
       "\n",
       "[56840 rows x 2 columns]"
      ]
     },
     "execution_count": 39,
     "metadata": {},
     "output_type": "execute_result"
    }
   ],
   "source": [
    "df2"
   ]
  },
  {
   "cell_type": "code",
   "execution_count": 42,
   "id": "8871b12b",
   "metadata": {},
   "outputs": [],
   "source": [
    "df2['sentiments'] = df2.Score.apply(lambda x: -1 if x in [1, 2] else 1)"
   ]
  },
  {
   "cell_type": "code",
   "execution_count": 43,
   "id": "b7a40ff6",
   "metadata": {},
   "outputs": [
    {
     "data": {
      "text/html": [
       "<div>\n",
       "<style scoped>\n",
       "    .dataframe tbody tr th:only-of-type {\n",
       "        vertical-align: middle;\n",
       "    }\n",
       "\n",
       "    .dataframe tbody tr th {\n",
       "        vertical-align: top;\n",
       "    }\n",
       "\n",
       "    .dataframe thead th {\n",
       "        text-align: right;\n",
       "    }\n",
       "</style>\n",
       "<table border=\"1\" class=\"dataframe\">\n",
       "  <thead>\n",
       "    <tr style=\"text-align: right;\">\n",
       "      <th></th>\n",
       "      <th>Score</th>\n",
       "      <th>Summary</th>\n",
       "      <th>sentiments</th>\n",
       "    </tr>\n",
       "  </thead>\n",
       "  <tbody>\n",
       "    <tr>\n",
       "      <th>302888</th>\n",
       "      <td>5</td>\n",
       "      <td>Great gluten free snack</td>\n",
       "      <td>1</td>\n",
       "    </tr>\n",
       "    <tr>\n",
       "      <th>38510</th>\n",
       "      <td>5</td>\n",
       "      <td>Affordable, delightful and good value for the ...</td>\n",
       "      <td>1</td>\n",
       "    </tr>\n",
       "    <tr>\n",
       "      <th>29130</th>\n",
       "      <td>5</td>\n",
       "      <td>Small slice of heaven</td>\n",
       "      <td>1</td>\n",
       "    </tr>\n",
       "    <tr>\n",
       "      <th>110703</th>\n",
       "      <td>3</td>\n",
       "      <td>Expiration dates - sometimes chewing gum stick...</td>\n",
       "      <td>1</td>\n",
       "    </tr>\n",
       "    <tr>\n",
       "      <th>64330</th>\n",
       "      <td>5</td>\n",
       "      <td>My favorite online coffee</td>\n",
       "      <td>1</td>\n",
       "    </tr>\n",
       "    <tr>\n",
       "      <th>...</th>\n",
       "      <td>...</td>\n",
       "      <td>...</td>\n",
       "      <td>...</td>\n",
       "    </tr>\n",
       "    <tr>\n",
       "      <th>22858</th>\n",
       "      <td>1</td>\n",
       "      <td>Old</td>\n",
       "      <td>-1</td>\n",
       "    </tr>\n",
       "    <tr>\n",
       "      <th>125239</th>\n",
       "      <td>5</td>\n",
       "      <td>sugar cubes -- great sugar + value</td>\n",
       "      <td>1</td>\n",
       "    </tr>\n",
       "    <tr>\n",
       "      <th>363907</th>\n",
       "      <td>2</td>\n",
       "      <td>Weak Vanilla Flavor</td>\n",
       "      <td>-1</td>\n",
       "    </tr>\n",
       "    <tr>\n",
       "      <th>303801</th>\n",
       "      <td>5</td>\n",
       "      <td>Love it!</td>\n",
       "      <td>1</td>\n",
       "    </tr>\n",
       "    <tr>\n",
       "      <th>409458</th>\n",
       "      <td>5</td>\n",
       "      <td>The Best Keurig K-Cup Coffee I've Found So Far</td>\n",
       "      <td>1</td>\n",
       "    </tr>\n",
       "  </tbody>\n",
       "</table>\n",
       "<p>56840 rows × 3 columns</p>\n",
       "</div>"
      ],
      "text/plain": [
       "        Score                                            Summary  sentiments\n",
       "302888      5                            Great gluten free snack           1\n",
       "38510       5  Affordable, delightful and good value for the ...           1\n",
       "29130       5                              Small slice of heaven           1\n",
       "110703      3  Expiration dates - sometimes chewing gum stick...           1\n",
       "64330       5                          My favorite online coffee           1\n",
       "...       ...                                                ...         ...\n",
       "22858       1                                                Old          -1\n",
       "125239      5                 sugar cubes -- great sugar + value           1\n",
       "363907      2                                Weak Vanilla Flavor          -1\n",
       "303801      5                                           Love it!           1\n",
       "409458      5     The Best Keurig K-Cup Coffee I've Found So Far           1\n",
       "\n",
       "[56840 rows x 3 columns]"
      ]
     },
     "execution_count": 43,
     "metadata": {},
     "output_type": "execute_result"
    }
   ],
   "source": [
    "df2"
   ]
  },
  {
   "cell_type": "code",
   "execution_count": 70,
   "id": "13f0158c",
   "metadata": {},
   "outputs": [
    {
     "data": {
      "image/png": "[encoded data removed]",
      "text/plain": [
       "<Figure size 1000x500 with 1 Axes>"
      ]
     },
     "metadata": {},
     "output_type": "display_data"
    }
   ],
   "source": [
    "ax =df2['Score'].value_counts().sort_index().plot(kind='bar',title='Count of Reviews by stars', figsize=(10,5))\n",
    "ax.set_xlabel('Review stars')\n",
    "plt.show()"
   ]
  },
  {
   "cell_type": "code",
   "execution_count": 44,
   "id": "a4a6efaa",
   "metadata": {},
   "outputs": [],
   "source": [
    "X = df2['Summary']\n",
    "y = df2['sentiments']"
   ]
  },
  {
   "cell_type": "code",
   "execution_count": 45,
   "id": "aa879386",
   "metadata": {},
   "outputs": [],
   "source": [
    "from sklearn.model_selection import train_test_split\n",
    "X_train, X_test, y_train, y_test = train_test_split(X, y, \n",
    "                                        test_size = 0.5, random_state=24)"
   ]
  },
  {
   "cell_type": "code",
   "execution_count": 46,
   "id": "a1c1609f",
   "metadata": {},
   "outputs": [],
   "source": [
    "from sklearn.feature_extraction.text import CountVectorizer\n",
    "cv = CountVectorizer()"
   ]
  },
  {
   "cell_type": "code",
   "execution_count": 47,
   "id": "531a5bc3",
   "metadata": {},
   "outputs": [],
   "source": [
    "#Vectorizing the text data\n",
    "ctmTr = cv.fit_transform(X_train)\n",
    "X_test_dtm = cv.transform(X_test)"
   ]
  },
  {
   "cell_type": "code",
   "execution_count": 48,
   "id": "1b27d03c",
   "metadata": {},
   "outputs": [
    {
     "name": "stderr",
     "output_type": "stream",
     "text": [
      "C:\\Users\\GAMES\\anaconda3\\lib\\site-packages\\sklearn\\linear_model\\_logistic.py:814: ConvergenceWarning: lbfgs failed to converge (status=1):\n",
      "STOP: TOTAL NO. of ITERATIONS REACHED LIMIT.\n",
      "\n",
      "Increase the number of iterations (max_iter) or scale the data as shown in:\n",
      "    https://scikit-learn.org/stable/modules/preprocessing.html\n",
      "Please also refer to the documentation for alternative solver options:\n",
      "    https://scikit-learn.org/stable/modules/linear_model.html#logistic-regression\n",
      "  n_iter_i = _check_optimize_result(\n"
     ]
    },
    {
     "data": {
      "text/plain": [
       "LogisticRegression()"
      ]
     },
     "execution_count": 48,
     "metadata": {},
     "output_type": "execute_result"
    }
   ],
   "source": [
    "from sklearn.linear_model import LogisticRegression\n",
    "#Training the model\n",
    "lr = LogisticRegression()\n",
    "lr.fit(ctmTr, y_train)"
   ]
  },
  {
   "cell_type": "code",
   "execution_count": 49,
   "id": "86473fd1",
   "metadata": {},
   "outputs": [
    {
     "name": "stdout",
     "output_type": "stream",
     "text": [
      "Results for Logistic Regression with CountVectorizer\n",
      "0.896551724137931\n"
     ]
    }
   ],
   "source": [
    "#Accuracy score\n",
    "lr_score = lr.score(X_test_dtm, y_test)\n",
    "print(\"Results for Logistic Regression with CountVectorizer\")\n",
    "print(lr_score)"
   ]
  },
  {
   "cell_type": "code",
   "execution_count": 50,
   "id": "3542b899",
   "metadata": {},
   "outputs": [],
   "source": [
    "#Predicting the labels for test data\n",
    "y_pred_lr = lr.predict(X_test_dtm)\n",
    "from sklearn.metrics import confusion_matrix"
   ]
  },
  {
   "cell_type": "code",
   "execution_count": 51,
   "id": "7ad0efe8",
   "metadata": {},
   "outputs": [],
   "source": [
    "#Confusion matrix\n",
    "cm_lr = confusion_matrix(y_test, y_pred_lr)"
   ]
  },
  {
   "cell_type": "code",
   "execution_count": 52,
   "id": "556809e1",
   "metadata": {},
   "outputs": [
    {
     "name": "stdout",
     "output_type": "stream",
     "text": [
      "1922 2269 671 23558\n"
     ]
    }
   ],
   "source": [
    "tn, fp, fn, tp = confusion_matrix(y_test, y_pred_lr).ravel()\n",
    "print(tn, fp, fn, tp)"
   ]
  },
  {
   "cell_type": "code",
   "execution_count": 53,
   "id": "b0db20d7",
   "metadata": {},
   "outputs": [],
   "source": [
    "#True positive and true negative rates\n",
    "tpr_lr = round(tp/(tp + fn), 4)\n",
    "tnr_lr = round(tn/(tn+fp), 4)"
   ]
  },
  {
   "cell_type": "code",
   "execution_count": 54,
   "id": "26616e01",
   "metadata": {},
   "outputs": [
    {
     "name": "stdout",
     "output_type": "stream",
     "text": [
      "0.9723 0.4586\n"
     ]
    }
   ],
   "source": [
    "print(tpr_lr, tnr_lr)"
   ]
  },
  {
   "cell_type": "code",
   "execution_count": null,
   "id": "6c291ef4",
   "metadata": {},
   "outputs": [],
   "source": []
  },
  {
   "cell_type": "markdown",
   "id": "d5d83573",
   "metadata": {},
   "source": [
    "## TFIDF VECTORIZER"
   ]
  },
  {
   "cell_type": "code",
   "execution_count": 55,
   "id": "d50c2746",
   "metadata": {},
   "outputs": [],
   "source": [
    "# https://medium.com/@cmukesh8688/tf-idf-vectorizer-scikit-learn-dbc0244a911a"
   ]
  },
  {
   "cell_type": "code",
   "execution_count": 56,
   "id": "53375a15",
   "metadata": {},
   "outputs": [],
   "source": [
    "# logistic regression"
   ]
  },
  {
   "cell_type": "code",
   "execution_count": 58,
   "id": "612dda3b",
   "metadata": {},
   "outputs": [],
   "source": [
    "from sklearn.feature_extraction.text import TfidfVectorizer\n",
    "from sklearn.linear_model import LogisticRegression"
   ]
  },
  {
   "cell_type": "code",
   "execution_count": 59,
   "id": "dc5d9dba",
   "metadata": {},
   "outputs": [],
   "source": [
    "#tfidf vectorizer\n",
    "vectorizer = TfidfVectorizer()\n",
    "X_train_vec = vectorizer.fit_transform(X_train)\n",
    "X_test_vec = vectorizer.transform(X_test)"
   ]
  },
  {
   "cell_type": "code",
   "execution_count": 60,
   "id": "48c83318",
   "metadata": {},
   "outputs": [],
   "source": [
    "lr = LogisticRegression()"
   ]
  },
  {
   "cell_type": "code",
   "execution_count": 61,
   "id": "ba180b99",
   "metadata": {},
   "outputs": [
    {
     "data": {
      "text/plain": [
       "LogisticRegression()"
      ]
     },
     "execution_count": 61,
     "metadata": {},
     "output_type": "execute_result"
    }
   ],
   "source": [
    "lr.fit(X_train_vec, y_train)"
   ]
  },
  {
   "cell_type": "code",
   "execution_count": 62,
   "id": "c8199688",
   "metadata": {},
   "outputs": [
    {
     "name": "stdout",
     "output_type": "stream",
     "text": [
      "Results for Logistic Regression with tfidf\n",
      "0.8920126671358198\n"
     ]
    }
   ],
   "source": [
    "lr_score = lr.score(X_test_vec, y_test)\n",
    "print(\"Results for Logistic Regression with tfidf\")\n",
    "print(lr_score)"
   ]
  },
  {
   "cell_type": "code",
   "execution_count": 63,
   "id": "9955fd3d",
   "metadata": {},
   "outputs": [],
   "source": [
    "y_pred_lr = lr.predict(X_test_vec)"
   ]
  },
  {
   "cell_type": "code",
   "execution_count": 64,
   "id": "aba2c79f",
   "metadata": {},
   "outputs": [],
   "source": [
    "#Confusion matrix\n",
    "from sklearn.metrics import confusion_matrix\n",
    "cm_knn = confusion_matrix(y_test, y_pred_lr)"
   ]
  },
  {
   "cell_type": "code",
   "execution_count": 67,
   "id": "56099130",
   "metadata": {},
   "outputs": [
    {
     "name": "stdout",
     "output_type": "stream",
     "text": [
      "1593 2598 471 23758\n"
     ]
    }
   ],
   "source": [
    "tn, fp, fn, tp = confusion_matrix(y_test, y_pred_lr).ravel()\n",
    "print(tn, fp, fn, tp) # true positive, false positive, true negative, false negative, true negative rate, and false-negative rate."
   ]
  },
  {
   "cell_type": "code",
   "execution_count": 66,
   "id": "e31d236b",
   "metadata": {},
   "outputs": [
    {
     "name": "stdout",
     "output_type": "stream",
     "text": [
      "0.9806 0.3801\n"
     ]
    }
   ],
   "source": [
    "tpr_knn = round(tp/(tp + fn), 4)\n",
    "tnr_knn = round(tn/(tn+fp), 4)\n",
    "print(tpr_knn, tnr_knn)"
   ]
  },
  {
   "cell_type": "code",
   "execution_count": null,
   "id": "487c9620",
   "metadata": {},
   "outputs": [],
   "source": []
  },
  {
   "cell_type": "code",
   "execution_count": null,
   "id": "7e71cfca",
   "metadata": {},
   "outputs": [],
   "source": []
  },
  {
   "cell_type": "markdown",
   "id": "8fd1206e",
   "metadata": {},
   "source": [
    "# NLTK"
   ]
  },
  {
   "cell_type": "code",
   "execution_count": 72,
   "id": "ba935f70",
   "metadata": {},
   "outputs": [
    {
     "name": "stderr",
     "output_type": "stream",
     "text": [
      "[nltk_data] Downloading package vader_lexicon to\n",
      "[nltk_data]     C:\\Users\\GAMES\\AppData\\Roaming\\nltk_data...\n"
     ]
    },
    {
     "data": {
      "text/plain": [
       "True"
      ]
     },
     "execution_count": 72,
     "metadata": {},
     "output_type": "execute_result"
    }
   ],
   "source": [
    "nltk.download('vader_lexicon')"
   ]
  },
  {
   "cell_type": "code",
   "execution_count": 75,
   "id": "3e8e778d",
   "metadata": {},
   "outputs": [],
   "source": [
    "# VADER Sentiment Scpring"
   ]
  },
  {
   "cell_type": "code",
   "execution_count": 73,
   "id": "1be3af91",
   "metadata": {},
   "outputs": [],
   "source": [
    "from nltk.sentiment import SentimentIntensityAnalyzer\n",
    "from tqdm.notebook import tqdm\n",
    "\n",
    "sia = SentimentIntensityAnalyzer()"
   ]
  },
  {
   "cell_type": "code",
   "execution_count": 76,
   "id": "442f83ad",
   "metadata": {},
   "outputs": [
    {
     "data": {
      "text/plain": [
       "{'neg': 0.0, 'neu': 0.166, 'pos': 0.834, 'compound': 0.72}"
      ]
     },
     "execution_count": 76,
     "metadata": {},
     "output_type": "execute_result"
    }
   ],
   "source": [
    "sia.polarity_scores(\"I VERY happy!\")"
   ]
  },
  {
   "cell_type": "code",
   "execution_count": 77,
   "id": "f3d4a6c7",
   "metadata": {},
   "outputs": [
    {
     "data": {
      "text/plain": [
       "{'neg': 0.451, 'neu': 0.549, 'pos': 0.0, 'compound': -0.6249}"
      ]
     },
     "execution_count": 77,
     "metadata": {},
     "output_type": "execute_result"
    }
   ],
   "source": [
    "sia.polarity_scores(\"This is the worst thing ever\")"
   ]
  },
  {
   "cell_type": "code",
   "execution_count": 78,
   "id": "810918dd",
   "metadata": {},
   "outputs": [],
   "source": [
    "# POLARITY SCORE ON THE ENTIRE DATA SET"
   ]
  },
  {
   "cell_type": "code",
   "execution_count": 83,
   "id": "9bed5ddd",
   "metadata": {},
   "outputs": [
    {
     "data": {
      "application/vnd.jupyter.widget-view+json": {
       "model_id": "eb02eb90c68c494b982eba69e34017a6",
       "version_major": 2,
       "version_minor": 0
      },
      "text/plain": [
       "  0%|          | 0/56840 [00:00<?, ?it/s]"
      ]
     },
     "metadata": {},
     "output_type": "display_data"
    }
   ],
   "source": [
    "res={}\n",
    "for i,row in tqdm(df1.iterrows(), total=len(df1)):\n",
    "    text =  row['Text']\n",
    "    myid = row['Id']\n",
    "    res[myid]=sia.polarity_scores(text)"
   ]
  },
  {
   "cell_type": "code",
   "execution_count": 84,
   "id": "8981cf4f",
   "metadata": {},
   "outputs": [],
   "source": [
    "vaders=pd.DataFrame(res).T\n",
    "vaders=vaders.reset_index().rename(columns={'index':'Id'})\n",
    "vaders= vaders.merge(df1,how='left')"
   ]
  },
  {
   "cell_type": "code",
   "execution_count": 87,
   "id": "8557df2b",
   "metadata": {},
   "outputs": [
    {
     "data": {
      "text/html": [
       "<div>\n",
       "<style scoped>\n",
       "    .dataframe tbody tr th:only-of-type {\n",
       "        vertical-align: middle;\n",
       "    }\n",
       "\n",
       "    .dataframe tbody tr th {\n",
       "        vertical-align: top;\n",
       "    }\n",
       "\n",
       "    .dataframe thead th {\n",
       "        text-align: right;\n",
       "    }\n",
       "</style>\n",
       "<table border=\"1\" class=\"dataframe\">\n",
       "  <thead>\n",
       "    <tr style=\"text-align: right;\">\n",
       "      <th></th>\n",
       "      <th>Id</th>\n",
       "      <th>neg</th>\n",
       "      <th>neu</th>\n",
       "      <th>pos</th>\n",
       "      <th>compound</th>\n",
       "      <th>ProductId</th>\n",
       "      <th>UserId</th>\n",
       "      <th>ProfileName</th>\n",
       "      <th>HelpfulnessNumerator</th>\n",
       "      <th>HelpfulnessDenominator</th>\n",
       "      <th>Score</th>\n",
       "      <th>Time</th>\n",
       "      <th>Summary</th>\n",
       "      <th>Text</th>\n",
       "    </tr>\n",
       "  </thead>\n",
       "  <tbody>\n",
       "    <tr>\n",
       "      <th>0</th>\n",
       "      <td>302889</td>\n",
       "      <td>0.000</td>\n",
       "      <td>0.810</td>\n",
       "      <td>0.190</td>\n",
       "      <td>0.9274</td>\n",
       "      <td>B004BY7HKC</td>\n",
       "      <td>A2CQIWHK4CKTGZ</td>\n",
       "      <td>C. Stowe</td>\n",
       "      <td>0</td>\n",
       "      <td>0</td>\n",
       "      <td>5</td>\n",
       "      <td>1328400000</td>\n",
       "      <td>Great gluten free snack</td>\n",
       "      <td>Out of all of the gluten free snacks I have tr...</td>\n",
       "    </tr>\n",
       "    <tr>\n",
       "      <th>1</th>\n",
       "      <td>38511</td>\n",
       "      <td>0.095</td>\n",
       "      <td>0.720</td>\n",
       "      <td>0.186</td>\n",
       "      <td>0.7534</td>\n",
       "      <td>B000H26J7E</td>\n",
       "      <td>A36WA7L88C2NW1</td>\n",
       "      <td>Candace Drimmer \"a.k.a. Candi Boggs\"</td>\n",
       "      <td>2</td>\n",
       "      <td>6</td>\n",
       "      <td>5</td>\n",
       "      <td>1297728000</td>\n",
       "      <td>Affordable, delightful and good value for the ...</td>\n",
       "      <td>As a chocolate lover--who use to make pilgrima...</td>\n",
       "    </tr>\n",
       "    <tr>\n",
       "      <th>2</th>\n",
       "      <td>29131</td>\n",
       "      <td>0.028</td>\n",
       "      <td>0.847</td>\n",
       "      <td>0.125</td>\n",
       "      <td>0.7807</td>\n",
       "      <td>B000FFVYFA</td>\n",
       "      <td>A2G6O9IQ6Y64AD</td>\n",
       "      <td>Just me</td>\n",
       "      <td>5</td>\n",
       "      <td>5</td>\n",
       "      <td>5</td>\n",
       "      <td>1236902400</td>\n",
       "      <td>Small slice of heaven</td>\n",
       "      <td>Wow.&lt;br /&gt;For those on a gluten &amp; dairy-free d...</td>\n",
       "    </tr>\n",
       "    <tr>\n",
       "      <th>3</th>\n",
       "      <td>110704</td>\n",
       "      <td>0.037</td>\n",
       "      <td>0.887</td>\n",
       "      <td>0.076</td>\n",
       "      <td>0.7039</td>\n",
       "      <td>B00438XVGU</td>\n",
       "      <td>A10FHIE6EYFOUG</td>\n",
       "      <td>J. C. Hirsch \"nerd pie\"</td>\n",
       "      <td>4</td>\n",
       "      <td>5</td>\n",
       "      <td>3</td>\n",
       "      <td>1309824000</td>\n",
       "      <td>Expiration dates - sometimes chewing gum stick...</td>\n",
       "      <td>I have some experience with expired Via coffee...</td>\n",
       "    </tr>\n",
       "    <tr>\n",
       "      <th>4</th>\n",
       "      <td>64331</td>\n",
       "      <td>0.075</td>\n",
       "      <td>0.704</td>\n",
       "      <td>0.221</td>\n",
       "      <td>0.9289</td>\n",
       "      <td>B001EO5YAC</td>\n",
       "      <td>A19JPROF2J4PA4</td>\n",
       "      <td>Acheron's Flow</td>\n",
       "      <td>0</td>\n",
       "      <td>0</td>\n",
       "      <td>5</td>\n",
       "      <td>1265500800</td>\n",
       "      <td>My favorite online coffee</td>\n",
       "      <td>Very nice roast. An aroma to die for. This is ...</td>\n",
       "    </tr>\n",
       "  </tbody>\n",
       "</table>\n",
       "</div>"
      ],
      "text/plain": [
       "       Id    neg    neu    pos  compound   ProductId          UserId  \\\n",
       "0  302889  0.000  0.810  0.190    0.9274  B004BY7HKC  A2CQIWHK4CKTGZ   \n",
       "1   38511  0.095  0.720  0.186    0.7534  B000H26J7E  A36WA7L88C2NW1   \n",
       "2   29131  0.028  0.847  0.125    0.7807  B000FFVYFA  A2G6O9IQ6Y64AD   \n",
       "3  110704  0.037  0.887  0.076    0.7039  B00438XVGU  A10FHIE6EYFOUG   \n",
       "4   64331  0.075  0.704  0.221    0.9289  B001EO5YAC  A19JPROF2J4PA4   \n",
       "\n",
       "                            ProfileName  HelpfulnessNumerator  \\\n",
       "0                              C. Stowe                     0   \n",
       "1  Candace Drimmer \"a.k.a. Candi Boggs\"                     2   \n",
       "2                               Just me                     5   \n",
       "3               J. C. Hirsch \"nerd pie\"                     4   \n",
       "4                        Acheron's Flow                     0   \n",
       "\n",
       "   HelpfulnessDenominator  Score        Time  \\\n",
       "0                       0      5  1328400000   \n",
       "1                       6      5  1297728000   \n",
       "2                       5      5  1236902400   \n",
       "3                       5      3  1309824000   \n",
       "4                       0      5  1265500800   \n",
       "\n",
       "                                             Summary  \\\n",
       "0                            Great gluten free snack   \n",
       "1  Affordable, delightful and good value for the ...   \n",
       "2                              Small slice of heaven   \n",
       "3  Expiration dates - sometimes chewing gum stick...   \n",
       "4                          My favorite online coffee   \n",
       "\n",
       "                                                Text  \n",
       "0  Out of all of the gluten free snacks I have tr...  \n",
       "1  As a chocolate lover--who use to make pilgrima...  \n",
       "2  Wow.<br />For those on a gluten & dairy-free d...  \n",
       "3  I have some experience with expired Via coffee...  \n",
       "4  Very nice roast. An aroma to die for. This is ...  "
      ]
     },
     "execution_count": 87,
     "metadata": {},
     "output_type": "execute_result"
    }
   ],
   "source": [
    "vaders.head()"
   ]
  },
  {
   "cell_type": "code",
   "execution_count": 88,
   "id": "4eb51f26",
   "metadata": {},
   "outputs": [
    {
     "data": {
      "image/png": "[encoded data removed]",
      "text/plain": [
       "<Figure size 1200x300 with 3 Axes>"
      ]
     },
     "metadata": {},
     "output_type": "display_data"
    }
   ],
   "source": [
    "fig, axs = plt.subplots(1,3, figsize=(12,3))\n",
    "sns.barplot(data=vaders, x='Score', y='pos', ax=axs[0])\n",
    "sns.barplot(data=vaders, x='Score', y='neu', ax=axs[1])\n",
    "sns.barplot(data=vaders, x='Score', y='neg', ax=axs[2])\n",
    "axs[0].set_title('Positive')\n",
    "axs[1].set_title('Neutral')\n",
    "axs[2].set_title('Negative')\n",
    "plt.show()"
   ]
  },
  {
   "cell_type": "code",
   "execution_count": null,
   "id": "2ef41d7d",
   "metadata": {},
   "outputs": [],
   "source": []
  },
  {
   "cell_type": "code",
   "execution_count": 103,
   "id": "dcf0dbba",
   "metadata": {},
   "outputs": [
    {
     "name": "stderr",
     "output_type": "stream",
     "text": [
      "[nltk_data] Downloading package stopwords to\n",
      "[nltk_data]     C:\\Users\\GAMES\\AppData\\Roaming\\nltk_data...\n",
      "[nltk_data]   Package stopwords is already up-to-date!\n"
     ]
    }
   ],
   "source": [
    "from nltk.tokenize import word_tokenize\n",
    "import re\n",
    "nltk.download('stopwords')\n",
    "stop_words = stopwords.words('english')"
   ]
  },
  {
   "cell_type": "code",
   "execution_count": 105,
   "id": "3bcb0b13",
   "metadata": {},
   "outputs": [],
   "source": [
    "def clean_text(x):\n",
    "  x = str(x)\n",
    "  x = x.lower()\n",
    "  x = re.sub(r'#[A-Za-z0-9]*', ' ', x)\n",
    "  x = re.sub(r'https*://.*', ' ', x)\n",
    "  x = re.sub(r'@[A-Za-z0-9]+', ' ', x)\n",
    "  tokens = word_tokenize(x)\n",
    "  x = ' '.join([w for w in tokens if not w.lower() in stop_words])\n",
    "  x = re.sub(r'[%s]' % re.escape('!\"#$%&\\()*+,-./:;<=>?@[\\\\]^_`{|}~“…”’'), ' ', x)\n",
    "  x = re.sub(r'\\d+', ' ', x)\n",
    "  x = re.sub(r'\\n+', ' ', x)\n",
    "  x = re.sub(r'\\s{2,}', ' ', x)\n",
    "  return x\n",
    "\n",
    "df1['clean_text'] = df1.Text.apply(clean_text)"
   ]
  },
  {
   "cell_type": "code",
   "execution_count": 110,
   "id": "2c02435e",
   "metadata": {},
   "outputs": [],
   "source": [
    "df1 = df1[['Score', 'clean_text']]"
   ]
  },
  {
   "cell_type": "code",
   "execution_count": 111,
   "id": "c5ce835a",
   "metadata": {},
   "outputs": [
    {
     "data": {
      "text/html": [
       "<div>\n",
       "<style scoped>\n",
       "    .dataframe tbody tr th:only-of-type {\n",
       "        vertical-align: middle;\n",
       "    }\n",
       "\n",
       "    .dataframe tbody tr th {\n",
       "        vertical-align: top;\n",
       "    }\n",
       "\n",
       "    .dataframe thead th {\n",
       "        text-align: right;\n",
       "    }\n",
       "</style>\n",
       "<table border=\"1\" class=\"dataframe\">\n",
       "  <thead>\n",
       "    <tr style=\"text-align: right;\">\n",
       "      <th></th>\n",
       "      <th>Score</th>\n",
       "      <th>clean_text</th>\n",
       "    </tr>\n",
       "  </thead>\n",
       "  <tbody>\n",
       "    <tr>\n",
       "      <th>302888</th>\n",
       "      <td>5</td>\n",
       "      <td>gluten free snacks tried think ones best nice ...</td>\n",
       "    </tr>\n",
       "    <tr>\n",
       "      <th>38510</th>\n",
       "      <td>5</td>\n",
       "      <td>chocolate lover use make pilgrimages sprungli ...</td>\n",
       "    </tr>\n",
       "    <tr>\n",
       "      <th>29130</th>\n",
       "      <td>5</td>\n",
       "      <td>wow br gluten dairy free diet ideal quick snac...</td>\n",
       "    </tr>\n",
       "    <tr>\n",
       "      <th>110703</th>\n",
       "      <td>3</td>\n",
       "      <td>experience expired via coffee occasionally oft...</td>\n",
       "    </tr>\n",
       "    <tr>\n",
       "      <th>64330</th>\n",
       "      <td>5</td>\n",
       "      <td>nice roast aroma die best tasting whole bean b...</td>\n",
       "    </tr>\n",
       "    <tr>\n",
       "      <th>...</th>\n",
       "      <td>...</td>\n",
       "      <td>...</td>\n",
       "    </tr>\n",
       "    <tr>\n",
       "      <th>22858</th>\n",
       "      <td>1</td>\n",
       "      <td>delivery time opened product like shelf life e...</td>\n",
       "    </tr>\n",
       "    <tr>\n",
       "      <th>125239</th>\n",
       "      <td>5</td>\n",
       "      <td>great product high quality lower price similar...</td>\n",
       "    </tr>\n",
       "    <tr>\n",
       "      <th>363907</th>\n",
       "      <td>2</td>\n",
       "      <td>researching brands vanilla bean paste decided ...</td>\n",
       "    </tr>\n",
       "    <tr>\n",
       "      <th>303801</th>\n",
       "      <td>5</td>\n",
       "      <td>second time purchasing bags tazo awake tea pri...</td>\n",
       "    </tr>\n",
       "    <tr>\n",
       "      <th>409458</th>\n",
       "      <td>5</td>\n",
       "      <td>tully 's french roast k cups make best coffee ...</td>\n",
       "    </tr>\n",
       "  </tbody>\n",
       "</table>\n",
       "<p>56840 rows × 2 columns</p>\n",
       "</div>"
      ],
      "text/plain": [
       "        Score                                         clean_text\n",
       "302888      5  gluten free snacks tried think ones best nice ...\n",
       "38510       5  chocolate lover use make pilgrimages sprungli ...\n",
       "29130       5  wow br gluten dairy free diet ideal quick snac...\n",
       "110703      3  experience expired via coffee occasionally oft...\n",
       "64330       5  nice roast aroma die best tasting whole bean b...\n",
       "...       ...                                                ...\n",
       "22858       1  delivery time opened product like shelf life e...\n",
       "125239      5  great product high quality lower price similar...\n",
       "363907      2  researching brands vanilla bean paste decided ...\n",
       "303801      5  second time purchasing bags tazo awake tea pri...\n",
       "409458      5  tully 's french roast k cups make best coffee ...\n",
       "\n",
       "[56840 rows x 2 columns]"
      ]
     },
     "execution_count": 111,
     "metadata": {},
     "output_type": "execute_result"
    }
   ],
   "source": [
    "df1"
   ]
  },
  {
   "cell_type": "code",
   "execution_count": 109,
   "id": "104ad437",
   "metadata": {},
   "outputs": [
    {
     "data": {
      "image/png": "[encoded data removed]",
      "text/plain": [
       "<Figure size 640x480 with 1 Axes>"
      ]
     },
     "metadata": {},
     "output_type": "display_data"
    }
   ],
   "source": [
    "stopwords = set('STOPWORDS')\n",
    "textt = \" \".join(review for review in df1.clean_text)\n",
    "wordcloud = WordCloud(stopwords=stopwords).generate(textt)\n",
    "plt.imshow(wordcloud, interpolation='bilinear')\n",
    "plt.axis(\"off\")\n",
    "plt.savefig('wordcloud11.png')\n",
    "plt.show()"
   ]
  },
  {
   "cell_type": "code",
   "execution_count": null,
   "id": "5d6b5a3f",
   "metadata": {},
   "outputs": [],
   "source": []
  },
  {
   "cell_type": "code",
   "execution_count": null,
   "id": "64cefde8",
   "metadata": {},
   "outputs": [],
   "source": []
  }
 ],
 "metadata": {
  "kernelspec": {
   "display_name": "Python 3 (ipykernel)",
   "language": "python",
   "name": "python3"
  },
  "language_info": {
   "codemirror_mode": {
    "name": "ipython",
    "version": 3
   },
   "file_extension": ".py",
   "mimetype": "text/x-python",
   "name": "python",
   "nbconvert_exporter": "python",
   "pygments_lexer": "ipython3",
   "version": "3.9.13"
  }
 },
 "nbformat": 4,
 "nbformat_minor": 5
}
